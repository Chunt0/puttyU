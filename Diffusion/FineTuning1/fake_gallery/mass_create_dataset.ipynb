{
 "cells": [
  {
   "cell_type": "code",
   "execution_count": 2,
   "metadata": {},
   "outputs": [
    {
     "data": {
      "application/vnd.jupyter.widget-view+json": {
       "model_id": "49abe1dc90874e9a88c1d3b14bd3dd29",
       "version_major": 2,
       "version_minor": 0
      },
      "text/plain": [
       "VBox(children=(HTML(value='<center> <img\\nsrc=https://huggingface.co/front/assets/huggingface_logo-noborder.sv…"
      ]
     },
     "metadata": {},
     "output_type": "display_data"
    }
   ],
   "source": [
    "import os\n",
    "import csv\n",
    "from datasets import load_dataset\n",
    "from huggingface_hub import notebook_login\n",
    "\n",
    "notebook_login()"
   ]
  },
  {
   "cell_type": "code",
   "execution_count": 3,
   "metadata": {},
   "outputs": [
    {
     "name": "stdout",
     "output_type": "stream",
     "text": [
      "seth-price\n",
      "daniel-graham-loxton\n",
      "karol-radziszewski\n",
      "kerstin-cmelka\n"
     ]
    }
   ],
   "source": [
    "\n",
    "CAD_PATH = \"/media/chunt/6F53-5578/CAD_img/\"\n",
    "TZVET_PATH = \"/media/chunt/6F53-5578/TZVET_img/\"\n",
    "\n",
    "CAD_dir = [(CAD_PATH+f,f) for f in os.listdir(CAD_PATH) if os.path.isdir(os.path.join(CAD_PATH,f))]\n",
    "#TZVET_dir = [(TZVET_PATH+f,f) for f in os.listdir(TZVET_PATH) if os.path.isdir(os.path.join(TZVET_PATH,f))]\n",
    "\n",
    "for d in CAD_dir[:4]:\n",
    "    img_dir = d[0]\n",
    "    label = d[1] if len(d[1]) < 40 else d[1][:40].rstrip(\"-\")\n",
    "    artist = label.split(\"-at-\")[0].rstrip(\"-\")\n",
    "    data = [[\"file_name\", \"text\"]]\n",
    "    count = 0\n",
    "    for filename in os.listdir(img_dir):\n",
    "        if filename.endswith(\".jpg\"):\n",
    "            src = os.path.join(img_dir, filename)\n",
    "            dst = os.path.join(img_dir, f\"img{count}.jpg\")\n",
    "            os.rename(src, dst)\n",
    "            data.append([f\"img{count}.jpg\", artist])\n",
    "            count += 1\n",
    "        if filename.endswith(\".pdf\"):\n",
    "            os.remove(os.path.join(img_dir, filename))\n",
    "\n",
    "    metadata_filename = img_dir + \"/metadata.csv\"\n",
    "    with open(metadata_filename, mode='w', newline='') as file:\n",
    "        writer = csv.writer(file)\n",
    "        for row in data:\n",
    "            writer.writerow(row)\n",
    "    repo_name = label if len(label) < 96 else label[:96]\n",
    "    print(artist)\n",
    "    #dataset = load_dataset(\"imagefolder\", data_dir=img_dir, drop_labels=True)\n",
    "    #dataset.push_to_hub(f\"Chunt0/{repo_name}\")\n",
    "\n",
    "\n"
   ]
  },
  {
   "cell_type": "code",
   "execution_count": 5,
   "metadata": {},
   "outputs": [
    {
     "data": {
      "application/vnd.jupyter.widget-view+json": {
       "model_id": "f4cbf0e0187b4bdc8f5f1bdad1dde469",
       "version_major": 2,
       "version_minor": 0
      },
      "text/plain": [
       "Downloading readme:   0%|          | 0.00/503 [00:00<?, ?B/s]"
      ]
     },
     "metadata": {},
     "output_type": "display_data"
    },
    {
     "data": {
      "application/vnd.jupyter.widget-view+json": {
       "model_id": "0efa05c03db743b98722b59485d5ca45",
       "version_major": 2,
       "version_minor": 0
      },
      "text/plain": [
       "Downloading data files:   0%|          | 0/1 [00:00<?, ?it/s]"
      ]
     },
     "metadata": {},
     "output_type": "display_data"
    },
    {
     "data": {
      "application/vnd.jupyter.widget-view+json": {
       "model_id": "f07d7dda94fb45b19eb4be5de37c6b34",
       "version_major": 2,
       "version_minor": 0
      },
      "text/plain": [
       "Downloading data:   0%|          | 0.00/7.29M [00:00<?, ?B/s]"
      ]
     },
     "metadata": {},
     "output_type": "display_data"
    },
    {
     "data": {
      "application/vnd.jupyter.widget-view+json": {
       "model_id": "7a2ee9406a6b4915a236a4744b6d4c5c",
       "version_major": 2,
       "version_minor": 0
      },
      "text/plain": [
       "Extracting data files:   0%|          | 0/1 [00:00<?, ?it/s]"
      ]
     },
     "metadata": {},
     "output_type": "display_data"
    },
    {
     "data": {
      "application/vnd.jupyter.widget-view+json": {
       "model_id": "3134a1037482411aa281b36b06bb625e",
       "version_major": 2,
       "version_minor": 0
      },
      "text/plain": [
       "Generating train split:   0%|          | 0/36 [00:00<?, ? examples/s]"
      ]
     },
     "metadata": {},
     "output_type": "display_data"
    }
   ],
   "source": [
    "#notebook_login()\n",
    "dataset = load_dataset(\"Chunt0/karol-radziszewski-at-between-bridges-be\")"
   ]
  }
 ],
 "metadata": {
  "kernelspec": {
   "display_name": "Python 3",
   "language": "python",
   "name": "python3"
  },
  "language_info": {
   "codemirror_mode": {
    "name": "ipython",
    "version": 3
   },
   "file_extension": ".py",
   "mimetype": "text/x-python",
   "name": "python",
   "nbconvert_exporter": "python",
   "pygments_lexer": "ipython3",
   "version": "3.10.12"
  }
 },
 "nbformat": 4,
 "nbformat_minor": 2
}
