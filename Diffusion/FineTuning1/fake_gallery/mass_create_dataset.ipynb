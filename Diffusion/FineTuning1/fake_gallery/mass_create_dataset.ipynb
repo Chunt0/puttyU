{
 "cells": [
  {
   "cell_type": "code",
   "execution_count": 5,
   "metadata": {},
   "outputs": [
    {
     "data": {
      "application/vnd.jupyter.widget-view+json": {
       "model_id": "3df3ce16fafc4533ade4f67adc36cd12",
       "version_major": 2,
       "version_minor": 0
      },
      "text/plain": [
       "VBox(children=(HTML(value='<center> <img\\nsrc=https://huggingface.co/front/assets/huggingface_logo-noborder.sv…"
      ]
     },
     "metadata": {},
     "output_type": "display_data"
    }
   ],
   "source": [
    "import os\n",
    "import csv\n",
    "from datasets import load_dataset\n",
    "from huggingface_hub import notebook_login\n",
    "\n",
    "notebook_login()"
   ]
  },
  {
   "cell_type": "code",
   "execution_count": 6,
   "metadata": {},
   "outputs": [
    {
     "data": {
      "text/plain": [
       "'the floor is dirty'"
      ]
     },
     "execution_count": 6,
     "metadata": {},
     "output_type": "execute_result"
    }
   ],
   "source": [
    "from transformers import AutoProcessor, AutoModelForCausalLM\n",
    "import requests\n",
    "from PIL import Image\n",
    "\n",
    "def img_caption(img):\n",
    "    processor = AutoProcessor.from_pretrained(\"microsoft/git-base\")\n",
    "    model = AutoModelForCausalLM.from_pretrained(\"microsoft/git-base\")\n",
    "    image = Image.open(img)\n",
    "    pixel_values = processor(images=image, return_tensors=\"pt\").pixel_values\n",
    "    generated_ids = model.generate(pixel_values=pixel_values, max_length=50)\n",
    "    generated_caption = processor.batch_decode(generated_ids, skip_special_tokens=True)[0]\n",
    "    return generated_caption\n",
    "\n",
    "img_caption(\"./art_classifier/img/train/install/1516.jpg\")"
   ]
  },
  {
   "cell_type": "code",
   "execution_count": 7,
   "metadata": {},
   "outputs": [
    {
     "name": "stdout",
     "output_type": "stream",
     "text": [
      "large window with white frame\n",
      "a man sitting on a stool\n",
      "orange and white fabric\n",
      "a large rug on the floor\n",
      "a white door\n",
      "a wall on the side of a building\n",
      "a wall on the side of a building\n",
      "a person walking on a sidewalk\n",
      "the garden of the old house\n",
      "person wearing a black hoodie\n",
      "the floor is made of concrete\n",
      "a large screen on the wall\n",
      "a large poster of a man\n",
      "a wall on the side of a building\n",
      "a scene during the day time\n",
      "a large building with many windows\n",
      "a cloudy sky\n",
      "a statue of a woman\n",
      "the ceiling is white\n",
      "a picture on the wall\n",
      "a large green tree\n",
      "two statues on the wall\n",
      "a window on the building\n",
      "the door is brown\n",
      "a wall on the side of a building\n",
      "a brick walkway\n",
      "blue fish in a net\n",
      "a plant growing against a wall\n",
      "the courtyard of the house\n",
      "purple kite in the air\n",
      "the tree is in the yard of the house\n",
      "a green building\n",
      "a woman sitting in a chair\n",
      "large window with white frame\n"
     ]
    },
    {
     "data": {
      "application/vnd.jupyter.widget-view+json": {
       "model_id": "d6f603e3dd9d40d7a71eaa700dee1c5c",
       "version_major": 2,
       "version_minor": 0
      },
      "text/plain": [
       "Resolving data files:   0%|          | 0/34 [00:00<?, ?it/s]"
      ]
     },
     "metadata": {},
     "output_type": "display_data"
    },
    {
     "data": {
      "application/vnd.jupyter.widget-view+json": {
       "model_id": "5a0609d05f0a4f97b97c9deb9ed64dd4",
       "version_major": 2,
       "version_minor": 0
      },
      "text/plain": [
       "Downloading data files:   0%|          | 0/34 [00:00<?, ?it/s]"
      ]
     },
     "metadata": {},
     "output_type": "display_data"
    },
    {
     "data": {
      "application/vnd.jupyter.widget-view+json": {
       "model_id": "839e9c63b5fa4e2f8b6bc951980a8038",
       "version_major": 2,
       "version_minor": 0
      },
      "text/plain": [
       "Downloading data files: 0it [00:00, ?it/s]"
      ]
     },
     "metadata": {},
     "output_type": "display_data"
    },
    {
     "data": {
      "application/vnd.jupyter.widget-view+json": {
       "model_id": "f13684bc28d9446f8eca05b38290b94c",
       "version_major": 2,
       "version_minor": 0
      },
      "text/plain": [
       "Extracting data files: 0it [00:00, ?it/s]"
      ]
     },
     "metadata": {},
     "output_type": "display_data"
    },
    {
     "data": {
      "application/vnd.jupyter.widget-view+json": {
       "model_id": "efa7783305e6498aaa021fe2c8e67334",
       "version_major": 2,
       "version_minor": 0
      },
      "text/plain": [
       "Generating train split: 0 examples [00:00, ? examples/s]"
      ]
     },
     "metadata": {},
     "output_type": "display_data"
    },
    {
     "data": {
      "application/vnd.jupyter.widget-view+json": {
       "model_id": "ef805807136a43b8a85d61e8d84537d1",
       "version_major": 2,
       "version_minor": 0
      },
      "text/plain": [
       "Map:   0%|          | 0/33 [00:00<?, ? examples/s]"
      ]
     },
     "metadata": {},
     "output_type": "display_data"
    },
    {
     "data": {
      "application/vnd.jupyter.widget-view+json": {
       "model_id": "648d57bb2b254098a6310bd8a67c19c6",
       "version_major": 2,
       "version_minor": 0
      },
      "text/plain": [
       "Pushing dataset shards to the dataset hub:   0%|          | 0/1 [00:00<?, ?it/s]"
      ]
     },
     "metadata": {},
     "output_type": "display_data"
    },
    {
     "data": {
      "application/vnd.jupyter.widget-view+json": {
       "model_id": "19d7c60c72fd4bd28a589f3732d51bb2",
       "version_major": 2,
       "version_minor": 0
      },
      "text/plain": [
       "Creating parquet from Arrow format:   0%|          | 0/1 [00:00<?, ?ba/s]"
      ]
     },
     "metadata": {},
     "output_type": "display_data"
    }
   ],
   "source": [
    "\n",
    "CAD_PATH = \"/media/chunt/6F53-5578/CAD_img/\"\n",
    "TZVET_PATH = \"/media/chunt/6F53-5578/TZVET_img/\"\n",
    "\n",
    "CAD_dir = [(CAD_PATH+f,f) for f in os.listdir(CAD_PATH) if os.path.isdir(os.path.join(CAD_PATH,f))]\n",
    "TZVET_dir = [(TZVET_PATH+f,f) for f in os.listdir(TZVET_PATH) if os.path.isdir(os.path.join(TZVET_PATH,f))]\n",
    "\n",
    "def mass_create_dataset(dir):\n",
    "    for d in dir:\n",
    "        try:\n",
    "            img_dir = d[0]\n",
    "            label = d[1] if len(d[1]) < 40 else d[1][:40].rstrip(\"-\")\n",
    "            artist = label.split(\"-at-\")[0].rstrip(\"-\")\n",
    "            data = [[\"file_name\", \"text\"]]\n",
    "            count = 0\n",
    "\n",
    "            for filename in os.listdir(img_dir):\n",
    "                if filename.endswith(\".jpg\"):\n",
    "                    src = os.path.join(img_dir, filename)\n",
    "                    caption = img_caption(src)\n",
    "                    dst = os.path.join(img_dir, f\"img{count}.jpg\")\n",
    "                    os.rename(src, dst)\n",
    "                    data.append([f\"img{count}.jpg\", artist+\", \"+caption])\n",
    "                    count += 1\n",
    "                if filename.endswith(\".pdf\"):\n",
    "                    os.remove(os.path.join(img_dir, filename))\n",
    "\n",
    "            metadata_filename = img_dir + \"/metadata.csv\"\n",
    "            with open(metadata_filename, mode='w', newline='') as file:\n",
    "                writer = csv.writer(file)\n",
    "                for row in data:\n",
    "                    writer.writerow(row)\n",
    "            repo_name = label if len(label) < 96 else label[:96]\n",
    "            dataset = load_dataset(\"imagefolder\", data_dir=img_dir, drop_labels=True)\n",
    "            dataset.push_to_hub(f\"Chunt0/{repo_name}\", private=True)\n",
    "            print(f\"Directory {d} was uploaded\")\n",
    "        except:\n",
    "            print(f\"Directory {d} was skipped\")\n",
    "\n",
    "mass_create_dataset(TZVET_dir)\n",
    "\n"
   ]
  }
 ],
 "metadata": {
  "kernelspec": {
   "display_name": "Python 3",
   "language": "python",
   "name": "python3"
  },
  "language_info": {
   "codemirror_mode": {
    "name": "ipython",
    "version": 3
   },
   "file_extension": ".py",
   "mimetype": "text/x-python",
   "name": "python",
   "nbconvert_exporter": "python",
   "pygments_lexer": "ipython3",
   "version": "3.10.12"
  }
 },
 "nbformat": 4,
 "nbformat_minor": 2
}
