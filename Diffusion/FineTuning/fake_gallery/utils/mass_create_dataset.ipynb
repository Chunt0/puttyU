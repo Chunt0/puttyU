{
 "cells": [
  {
   "cell_type": "code",
   "execution_count": null,
   "metadata": {},
   "outputs": [],
   "source": [
    "import os\n",
    "import csv\n",
    "from datasets import load_dataset\n",
    "from huggingface_hub import notebook_login\n",
    "\n",
    "notebook_login()"
   ]
  },
  {
   "cell_type": "code",
   "execution_count": null,
   "metadata": {},
   "outputs": [],
   "source": [
    "from transformers import AutoProcessor, AutoModelForCausalLM\n",
    "import requests\n",
    "from PIL import Image\n",
    "\n",
    "def img_caption(img):\n",
    "    processor = AutoProcessor.from_pretrained(\"microsoft/git-base\")\n",
    "    model = AutoModelForCausalLM.from_pretrained(\"microsoft/git-base\")\n",
    "    image = Image.open(img)\n",
    "    pixel_values = processor(images=image, return_tensors=\"pt\").pixel_values\n",
    "    generated_ids = model.generate(pixel_values=pixel_values, max_length=50)\n",
    "    generated_caption = processor.batch_decode(generated_ids, skip_special_tokens=True)[0]\n",
    "    return generated_caption\n",
    "\n",
    "img_caption(\"./art_classifier/img/train/install/1516.jpg\")"
   ]
  },
  {
   "cell_type": "code",
   "execution_count": 4,
   "metadata": {},
   "outputs": [],
   "source": [
    "\n",
    "CAD_PATH = \"/media/chunt/6F53-5578/CAD_img/\"\n",
    "TZVET_PATH = \"/media/chunt/6F53-5578/TZVET_img/\"\n",
    "\n",
    "CAD_dir = [(CAD_PATH+f,f) for f in os.listdir(CAD_PATH) if os.path.isdir(os.path.join(CAD_PATH,f))]\n",
    "TZVET_dir = [(TZVET_PATH+f,f) for f in os.listdir(TZVET_PATH) if os.path.isdir(os.path.join(TZVET_PATH,f))]\n",
    "\n",
    "#def mass_create_dataset(dir):\n",
    "    for d in dir:\n",
    "        try:\n",
    "            img_dir = d[0]\n",
    "            label = d[1] if len(d[1]) < 40 else d[1][:40].rstrip(\"-\")\n",
    "            artist = label.split(\"-at-\")[0].rstrip(\"-\")\n",
    "            data = [[\"file_name\", \"text\"]]\n",
    "            count = 0\n",
    "\n",
    "            for filename in os.listdir(img_dir):\n",
    "                if filename.endswith(\".jpg\"):\n",
    "                    src = os.path.join(img_dir, filename)\n",
    "                    caption = img_caption(src)\n",
    "                    dst = os.path.join(img_dir, f\"img{count}.jpg\")\n",
    "                    os.rename(src, dst)\n",
    "                    data.append([f\"img{count}.jpg\", artist+\", \"+caption])\n",
    "                    count += 1\n",
    "                if filename.endswith(\".pdf\"):\n",
    "                    os.remove(os.path.join(img_dir, filename))\n",
    "\n",
    "            metadata_filename = img_dir + \"/metadata.csv\"\n",
    "            with open(metadata_filename, mode='w', newline='') as file:\n",
    "                writer = csv.writer(file)\n",
    "                for row in data:\n",
    "                    writer.writerow(row)\n",
    "            repo_name = label if len(label) < 96 else label[:96]\n",
    "            dataset = load_dataset(\"imagefolder\", data_dir=img_dir, drop_labels=True)\n",
    "            dataset.push_to_hub(f\"Chunt0/{repo_name}\", private=True)\n",
    "            print(f\"Directory {d} was uploaded\")\n",
    "        except:\n",
    "            print(f\"Directory {d} was skipped\")\n",
    "\n",
    "mass_create_dataset(TZVET_dir)\n",
    "\n"
   ]
  }
 ],
 "metadata": {
  "kernelspec": {
   "display_name": "Python 3",
   "language": "python",
   "name": "python3"
  },
  "language_info": {
   "codemirror_mode": {
    "name": "ipython",
    "version": 3
   },
   "file_extension": ".py",
   "mimetype": "text/x-python",
   "name": "python",
   "nbconvert_exporter": "python",
   "pygments_lexer": "ipython3",
   "version": "3.10.12"
  }
 },
 "nbformat": 4,
 "nbformat_minor": 2
}
